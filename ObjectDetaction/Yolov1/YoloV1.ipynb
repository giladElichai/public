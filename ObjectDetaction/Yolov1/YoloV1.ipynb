{
 "cells": [
  {
   "cell_type": "code",
   "execution_count": 1,
   "source": [
    "import os\r\n",
    "import os.path\r\n",
    "import sys \r\n",
    "\r\n",
    "from pathlib import Path\r\n",
    "from glob import glob\r\n",
    "from random import choice\r\n",
    "\r\n",
    "import matplotlib.pyplot as plt\r\n",
    "#import cv2\r\n",
    "import numpy as np"
   ],
   "outputs": [],
   "metadata": {}
  },
  {
   "cell_type": "code",
   "execution_count": 2,
   "source": [
    "import tensorflow as tf\r\n",
    "from tensorflow import keras\r\n",
    "print(tf.__version__)\r\n",
    "from tensorflow.keras.callbacks import ModelCheckpoint, EarlyStopping, ReduceLROnPlateau"
   ],
   "outputs": [
    {
     "output_type": "stream",
     "name": "stdout",
     "text": [
      "2.5.0\n"
     ]
    }
   ],
   "metadata": {}
  },
  {
   "cell_type": "code",
   "execution_count": 3,
   "source": [
    "physical_devices = tf.config.list_physical_devices(\"GPU\")\r\n",
    "tf.config.experimental.set_memory_growth(physical_devices[0], True)"
   ],
   "outputs": [],
   "metadata": {}
  },
  {
   "cell_type": "code",
   "execution_count": 4,
   "source": [
    "# loading the directories \r\n",
    "datapath = \"D:\\\\programing\\\\DataSets\\\\ObjectDetection\\\\pascalVoc\"\r\n",
    "dataset_path = Path(datapath)\r\n",
    "list(dataset_path.iterdir())"
   ],
   "outputs": [
    {
     "output_type": "execute_result",
     "data": {
      "text/plain": [
       "[WindowsPath('D:/programing/DataSets/ObjectDetection/pascalVoc/100examples.csv'),\n",
       " WindowsPath('D:/programing/DataSets/ObjectDetection/pascalVoc/8examples.csv'),\n",
       " WindowsPath('D:/programing/DataSets/ObjectDetection/pascalVoc/generate_csv.py'),\n",
       " WindowsPath('D:/programing/DataSets/ObjectDetection/pascalVoc/get_data'),\n",
       " WindowsPath('D:/programing/DataSets/ObjectDetection/pascalVoc/images'),\n",
       " WindowsPath('D:/programing/DataSets/ObjectDetection/pascalVoc/labels'),\n",
       " WindowsPath('D:/programing/DataSets/ObjectDetection/pascalVoc/PascalVOC.zip'),\n",
       " WindowsPath('D:/programing/DataSets/ObjectDetection/pascalVoc/test.csv'),\n",
       " WindowsPath('D:/programing/DataSets/ObjectDetection/pascalVoc/train.csv')]"
      ]
     },
     "metadata": {},
     "execution_count": 4
    }
   ],
   "metadata": {}
  },
  {
   "cell_type": "code",
   "execution_count": null,
   "source": [],
   "outputs": [],
   "metadata": {}
  },
  {
   "cell_type": "code",
   "execution_count": 5,
   "source": [
    "from DataLoader import DataGenerator"
   ],
   "outputs": [],
   "metadata": {}
  },
  {
   "cell_type": "code",
   "execution_count": 6,
   "source": [
    "batch_size = 4\r\n",
    "csv_file = \"D:\\\\programing\\\\DataSets\\\\ObjectDetection\\\\pascalVoc\\\\train.csv\"\r\n",
    "img_dir = \"D:\\\\programing\\\\DataSets\\\\ObjectDetection\\\\pascalVoc\\\\images\"\r\n",
    "labels_dir = \"D:\\\\programing\\\\DataSets\\\\ObjectDetection\\\\pascalVoc\\\\labels\"\r\n",
    "val_csv_file = \"D:\\\\programing\\\\DataSets\\\\ObjectDetection\\\\pascalVoc\\\\test.csv\"\r\n",
    "\r\n",
    "train_dg = DataGenerator(csv_file, img_dir, labels_dir, (448, 448), 16, 7, 2, 20)\r\n",
    "train_val = DataGenerator(val_csv_file, img_dir, labels_dir, (448, 448), 16, 7, 2, 20, shuffle=False)\r\n",
    "\r\n",
    "x_train, y_train = train_dg.__getitem__(0)\r\n",
    "x_val, y_val = train_val.__getitem__(0)\r\n",
    "print(x_train.shape)\r\n",
    "print(y_train.shape)\r\n",
    "\r\n",
    "print(x_val.shape)\r\n",
    "print(y_val.shape)"
   ],
   "outputs": [
    {
     "output_type": "stream",
     "name": "stdout",
     "text": [
      "(16, 448, 448, 3)\n",
      "(16, 7, 7, 30)\n",
      "(16, 448, 448, 3)\n",
      "(16, 7, 7, 30)\n"
     ]
    }
   ],
   "metadata": {}
  },
  {
   "cell_type": "code",
   "execution_count": 7,
   "source": [
    "from YoloV1Model import GetYoloV1Model"
   ],
   "outputs": [],
   "metadata": {}
  },
  {
   "cell_type": "code",
   "execution_count": 8,
   "source": [
    "model = GetYoloV1Model(7, 2, 20, input_shape = (448, 448, 3))"
   ],
   "outputs": [],
   "metadata": {}
  },
  {
   "cell_type": "code",
   "execution_count": 9,
   "source": [
    "mcp_save = ModelCheckpoint('weight.hdf5', save_best_only=True, monitor='val_loss', mode='min')"
   ],
   "outputs": [],
   "metadata": {}
  },
  {
   "cell_type": "code",
   "execution_count": 10,
   "source": [
    "from YoloV1Loss import yolo_loss"
   ],
   "outputs": [],
   "metadata": {}
  },
  {
   "cell_type": "code",
   "execution_count": null,
   "source": [
    "model.compile(loss=yolo_loss ,optimizer='adam')\r\n",
    "history = model.fit(x=train_dg,\r\n",
    "          epochs = 100,\r\n",
    "          validation_data = train_val,\r\n",
    "          callbacks=[mcp_save]\r\n",
    "        )"
   ],
   "outputs": [],
   "metadata": {}
  },
  {
   "cell_type": "code",
   "execution_count": null,
   "source": [],
   "outputs": [],
   "metadata": {}
  }
 ],
 "metadata": {
  "orig_nbformat": 4,
  "language_info": {
   "name": "python",
   "version": "3.8.0",
   "mimetype": "text/x-python",
   "codemirror_mode": {
    "name": "ipython",
    "version": 3
   },
   "pygments_lexer": "ipython3",
   "nbconvert_exporter": "python",
   "file_extension": ".py"
  },
  "kernelspec": {
   "name": "python3",
   "display_name": "Python 3.8.0 64-bit ('tf2.5': conda)"
  },
  "interpreter": {
   "hash": "58cceac48f57d874a8cd56eda7b63d694b099ef44e591f5d96e92ec5f1956b77"
  }
 },
 "nbformat": 4,
 "nbformat_minor": 2
}