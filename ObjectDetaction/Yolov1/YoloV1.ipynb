{
 "cells": [
  {
   "cell_type": "code",
   "execution_count": 1,
   "source": [
    "import os\r\n",
    "import os.path\r\n",
    "import sys \r\n",
    "\r\n",
    "from pathlib import Path\r\n",
    "from glob import glob\r\n",
    "from random import choice\r\n",
    "\r\n",
    "import matplotlib.pyplot as plt\r\n",
    "#import cv2\r\n",
    "import numpy as np"
   ],
   "outputs": [],
   "metadata": {}
  },
  {
   "cell_type": "code",
   "execution_count": 2,
   "source": [
    "import tensorflow as tf\r\n",
    "from tensorflow import keras\r\n",
    "print(tf.__version__)\r\n",
    "from tensorflow.keras.callbacks import ModelCheckpoint, EarlyStopping, ReduceLROnPlateau"
   ],
   "outputs": [
    {
     "output_type": "stream",
     "name": "stdout",
     "text": [
      "2.5.0\n"
     ]
    }
   ],
   "metadata": {}
  },
  {
   "cell_type": "code",
   "execution_count": 3,
   "source": [
    "physical_devices = tf.config.list_physical_devices(\"GPU\")\r\n",
    "tf.config.experimental.set_memory_growth(physical_devices[0], True)"
   ],
   "outputs": [],
   "metadata": {}
  },
  {
   "cell_type": "code",
   "execution_count": 4,
   "source": [
    "# loading the directories \r\n",
    "datapath = \"D:\\\\programing\\\\DataSets\\\\ObjectDetection\\\\pascalVoc\"\r\n",
    "dataset_path = Path(datapath)\r\n",
    "list(dataset_path.iterdir())"
   ],
   "outputs": [
    {
     "output_type": "execute_result",
     "data": {
      "text/plain": [
       "[WindowsPath('D:/programing/DataSets/ObjectDetection/pascalVoc/100examples.csv'),\n",
       " WindowsPath('D:/programing/DataSets/ObjectDetection/pascalVoc/8examples.csv'),\n",
       " WindowsPath('D:/programing/DataSets/ObjectDetection/pascalVoc/generate_csv.py'),\n",
       " WindowsPath('D:/programing/DataSets/ObjectDetection/pascalVoc/get_data'),\n",
       " WindowsPath('D:/programing/DataSets/ObjectDetection/pascalVoc/images'),\n",
       " WindowsPath('D:/programing/DataSets/ObjectDetection/pascalVoc/labels'),\n",
       " WindowsPath('D:/programing/DataSets/ObjectDetection/pascalVoc/PascalVOC.zip'),\n",
       " WindowsPath('D:/programing/DataSets/ObjectDetection/pascalVoc/test.csv'),\n",
       " WindowsPath('D:/programing/DataSets/ObjectDetection/pascalVoc/train.csv')]"
      ]
     },
     "metadata": {},
     "execution_count": 4
    }
   ],
   "metadata": {}
  },
  {
   "cell_type": "code",
   "execution_count": null,
   "source": [],
   "outputs": [],
   "metadata": {}
  },
  {
   "cell_type": "code",
   "execution_count": 5,
   "source": [
    "from DataLoader import DataGenerator"
   ],
   "outputs": [],
   "metadata": {}
  },
  {
   "cell_type": "code",
   "execution_count": 6,
   "source": [
    "batch_size = 4\r\n",
    "csv_file = \"D:\\\\programing\\\\DataSets\\\\ObjectDetection\\\\pascalVoc\\\\train.csv\"\r\n",
    "img_dir = \"D:\\\\programing\\\\DataSets\\\\ObjectDetection\\\\pascalVoc\\\\images\"\r\n",
    "labels_dir = \"D:\\\\programing\\\\DataSets\\\\ObjectDetection\\\\pascalVoc\\\\labels\"\r\n",
    "val_csv_file = \"D:\\\\programing\\\\DataSets\\\\ObjectDetection\\\\pascalVoc\\\\test.csv\"\r\n",
    "\r\n",
    "train_dg = DataGenerator(csv_file, img_dir, labels_dir, (448, 448), 16, 7, 2, 20)\r\n",
    "train_val = DataGenerator(val_csv_file, img_dir, labels_dir, (448, 448), 16, 7, 2, 20, shuffle=False)\r\n",
    "\r\n",
    "x_train, y_train = train_dg.__getitem__(0)\r\n",
    "x_val, y_val = train_val.__getitem__(0)\r\n",
    "print(x_train.shape)\r\n",
    "print(y_train.shape)\r\n",
    "\r\n",
    "print(x_val.shape)\r\n",
    "print(y_val.shape)"
   ],
   "outputs": [
    {
     "output_type": "stream",
     "name": "stdout",
     "text": [
      "(16, 448, 448, 3)\n",
      "(16, 7, 7, 30)\n",
      "(16, 448, 448, 3)\n",
      "(16, 7, 7, 30)\n"
     ]
    }
   ],
   "metadata": {}
  },
  {
   "cell_type": "code",
   "execution_count": 7,
   "source": [
    "from YoloV1Model import GetYoloV1Model"
   ],
   "outputs": [],
   "metadata": {}
  },
  {
   "cell_type": "code",
   "execution_count": 8,
   "source": [
    "model = GetYoloV1Model(7, 2, 20, input_shape = (448, 448, 3))"
   ],
   "outputs": [],
   "metadata": {}
  },
  {
   "cell_type": "code",
   "execution_count": 9,
   "source": [
    "mcp_save = ModelCheckpoint('weight.hdf5', save_best_only=True, monitor='val_loss', mode='min')"
   ],
   "outputs": [],
   "metadata": {}
  },
  {
   "cell_type": "code",
   "execution_count": 10,
   "source": [
    "from YoloV1Loss import yolo_loss"
   ],
   "outputs": [],
   "metadata": {}
  },
  {
   "cell_type": "code",
   "execution_count": 11,
   "source": [
    "model.compile(loss=yolo_loss ,optimizer='adam')\r\n",
    "history = model.fit(x=train_dg,\r\n",
    "          epochs = 100,\r\n",
    "          validation_data = train_val,\r\n",
    "          callbacks=[mcp_save]\r\n",
    "        )"
   ],
   "outputs": [
    {
     "output_type": "stream",
     "name": "stdout",
     "text": [
      "Epoch 1/100\n",
      "1034/1034 [==============================] - 536s 510ms/step - loss: 278.1750 - val_loss: 265.7435\n",
      "Epoch 2/100\n",
      "1034/1034 [==============================] - 375s 362ms/step - loss: 275.6734 - val_loss: 243.3074\n",
      "Epoch 3/100\n",
      "1034/1034 [==============================] - 369s 357ms/step - loss: 288.0068 - val_loss: 257.0960\n",
      "Epoch 4/100\n",
      "1034/1034 [==============================] - 357s 345ms/step - loss: 264.4045 - val_loss: 251.5547\n",
      "Epoch 5/100\n",
      "1034/1034 [==============================] - 365s 353ms/step - loss: 260.2361 - val_loss: 246.8189\n",
      "Epoch 6/100\n",
      "1034/1034 [==============================] - 356s 344ms/step - loss: 257.4231 - val_loss: 246.4185\n",
      "Epoch 7/100\n",
      "1034/1034 [==============================] - 356s 344ms/step - loss: 255.6247 - val_loss: 247.0702\n",
      "Epoch 8/100\n",
      "1034/1034 [==============================] - 358s 346ms/step - loss: 254.5901 - val_loss: 246.7384\n",
      "Epoch 9/100\n",
      "1034/1034 [==============================] - 356s 345ms/step - loss: 253.5042 - val_loss: 244.0668\n",
      "Epoch 10/100\n",
      "1034/1034 [==============================] - 351s 339ms/step - loss: 281.7922 - val_loss: 401.0526\n",
      "Epoch 11/100\n",
      "1034/1034 [==============================] - 351s 339ms/step - loss: 269.7419 - val_loss: 239.2705\n",
      "Epoch 12/100\n",
      "1034/1034 [==============================] - 351s 339ms/step - loss: 250.2418 - val_loss: 242.8819\n",
      "Epoch 13/100\n",
      "1034/1034 [==============================] - 351s 339ms/step - loss: 256.1051 - val_loss: 246.5789\n",
      "Epoch 14/100\n",
      "1034/1034 [==============================] - 352s 340ms/step - loss: 254.7603 - val_loss: 245.6833\n",
      "Epoch 15/100\n",
      "1034/1034 [==============================] - 353s 341ms/step - loss: 253.8833 - val_loss: 244.9943\n",
      "Epoch 16/100\n",
      "1034/1034 [==============================] - 353s 341ms/step - loss: 253.4610 - val_loss: 244.5113\n",
      "Epoch 17/100\n",
      "1034/1034 [==============================] - 353s 341ms/step - loss: 253.1397 - val_loss: 244.1867\n",
      "Epoch 18/100\n",
      "1034/1034 [==============================] - 353s 341ms/step - loss: 253.2714 - val_loss: 243.9616\n",
      "Epoch 19/100\n",
      "1034/1034 [==============================] - 353s 341ms/step - loss: 252.7268 - val_loss: 243.5307\n",
      "Epoch 20/100\n",
      "1034/1034 [==============================] - 353s 341ms/step - loss: 252.3466 - val_loss: 243.1212\n",
      "Epoch 21/100\n",
      "1034/1034 [==============================] - 353s 341ms/step - loss: 251.9396 - val_loss: 242.7587\n",
      "Epoch 22/100\n",
      "1034/1034 [==============================] - 353s 341ms/step - loss: 251.5242 - val_loss: 242.3894\n",
      "Epoch 23/100\n",
      "1034/1034 [==============================] - 353s 341ms/step - loss: 251.4471 - val_loss: 241.9149\n",
      "Epoch 24/100\n",
      "1034/1034 [==============================] - 353s 341ms/step - loss: 251.4236 - val_loss: 244.3022\n",
      "Epoch 25/100\n",
      "1034/1034 [==============================] - 353s 341ms/step - loss: 255.5210 - val_loss: 243.7312\n",
      "Epoch 26/100\n",
      "1034/1034 [==============================] - 353s 341ms/step - loss: 401.2500 - val_loss: 441.0828\n",
      "Epoch 27/100\n",
      "1034/1034 [==============================] - 353s 341ms/step - loss: 431.0109 - val_loss: 438.5883\n",
      "Epoch 28/100\n",
      "1034/1034 [==============================] - 15350s 15s/step - loss: 280.6366 - val_loss: 256.2553\n",
      "Epoch 29/100\n",
      "1034/1034 [==============================] - 402s 388ms/step - loss: 267.6606 - val_loss: 250.8706\n",
      "Epoch 30/100\n",
      "1034/1034 [==============================] - 357s 345ms/step - loss: 269.1270 - val_loss: 258.4000\n",
      "Epoch 31/100\n",
      "1034/1034 [==============================] - 354s 342ms/step - loss: 267.9341 - val_loss: 251.9205\n",
      "Epoch 32/100\n",
      "1034/1034 [==============================] - 353s 341ms/step - loss: 266.0654 - val_loss: 251.0622\n",
      "Epoch 33/100\n",
      "1034/1034 [==============================] - 353s 341ms/step - loss: 265.3239 - val_loss: 250.5670\n",
      "Epoch 34/100\n",
      "1034/1034 [==============================] - 353s 341ms/step - loss: 264.9485 - val_loss: 250.2616\n",
      "Epoch 35/100\n",
      "1034/1034 [==============================] - 353s 341ms/step - loss: 264.7865 - val_loss: 251.8212\n",
      "Epoch 36/100\n",
      "1034/1034 [==============================] - 355s 343ms/step - loss: 265.2332 - val_loss: 251.6372\n",
      "Epoch 37/100\n",
      "1034/1034 [==============================] - 386s 373ms/step - loss: 265.4391 - val_loss: 251.4857\n",
      "Epoch 38/100\n",
      " 500/1034 [=============>................] - ETA: 2:47 - loss: 265.1369"
     ]
    }
   ],
   "metadata": {}
  },
  {
   "cell_type": "code",
   "execution_count": null,
   "source": [],
   "outputs": [],
   "metadata": {}
  }
 ],
 "metadata": {
  "orig_nbformat": 4,
  "language_info": {
   "name": "python",
   "version": "3.8.0",
   "mimetype": "text/x-python",
   "codemirror_mode": {
    "name": "ipython",
    "version": 3
   },
   "pygments_lexer": "ipython3",
   "nbconvert_exporter": "python",
   "file_extension": ".py"
  },
  "kernelspec": {
   "name": "python3",
   "display_name": "Python 3.8.0 64-bit ('tf2.5': conda)"
  },
  "interpreter": {
   "hash": "58cceac48f57d874a8cd56eda7b63d694b099ef44e591f5d96e92ec5f1956b77"
  }
 },
 "nbformat": 4,
 "nbformat_minor": 2
}